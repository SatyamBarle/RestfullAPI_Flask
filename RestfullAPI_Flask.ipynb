{
  "nbformat": 4,
  "nbformat_minor": 0,
  "metadata": {
    "colab": {
      "provenance": []
    },
    "kernelspec": {
      "name": "python3",
      "display_name": "Python 3"
    },
    "language_info": {
      "name": "python"
    }
  },
  "cells": [
    {
      "cell_type": "markdown",
      "source": [
        " Restfull API and Flask :**Theory Questions**"
      ],
      "metadata": {
        "id": "KQUUSWFetDgF"
      }
    },
    {
      "cell_type": "markdown",
      "source": [
        "1. What is a RESTful API?\n",
        "  -  A RESTful API is a web service that follows REST principles, using HTTP methods to perform CRUD operations.\n",
        "\n",
        "2. Explain the concept of API specification.\n",
        " -  An API specification defines the structure, behavior, and data formats of an API, ensuring consistent interaction.\n",
        "\n",
        "3. What is Flask, and why is it popular for building APIs?\n",
        " -  Flask is a lightweight, flexible Python web framework ideal for building APIs quickly. It’s popular for its simplicity and minimalism.\n",
        "\n",
        "4. What is routing in Flask?\n",
        " -  Routing in Flask maps URLs to specific functions, enabling responses based on the requested route.\n",
        "\n",
        "5. What are HTTP methods used in RESTful APIs?\n",
        " -  GET, POST, PUT, DELETE, PATCH, OPTIONS, and HEAD.\n",
        "\n",
        "6. What is the purpose of the @app.route() decorator in Flask?\n",
        " - It defines the route and maps a URL to a function.\n",
        "\n",
        "7. What is the difference between GET and POST HTTP methods?\n",
        " - GET retrieves data without altering server state; POST submits data to the server, often modifying state.\n",
        "\n",
        "8. How do you handle errors in Flask APIs?\n",
        "  - Using error handlers with @app.errorhandler and returning custom responses.\n",
        "\n",
        "9. How do you connect Flask to a SQL database?\n",
        " - Using extensions like Flask-SQLAlchemy or direct connectors.\n",
        "\n",
        "10. What is the role of Flask-SQLAlchemy?\n",
        " - It provides an ORM layer for database operations.\n",
        "\n",
        "11. What are Flask blueprints, and how are they useful?\n",
        "  - Blueprints allow modular code organization for large applications.\n",
        "\n",
        "12. What is the purpose of Flask’s request object?\n",
        " - It handles incoming request data, including form inputs and JSON.\n",
        "\n",
        "13. How do you create a RESTful API endpoint using Flask?\n",
        "  - Using @app.route() with HTTP methods like GET and POST.\n",
        "\n",
        "14. What is the purpose of Flask’s jsonify() function?\n",
        " - It formats Python dictionaries as JSON responses.\n",
        "\n",
        "15. Explain Flask’s url_for() function.\n",
        " - It dynamically generates URLs based on route names.\n",
        "\n",
        "16. How does Flask handle static files (CSS, JavaScript, etc.)?\n",
        " - It serves static files from the 'static' folder using url_for('static', filename='file').\n",
        "\n",
        "17. What is an API specification, and how does it help in building a Flask API?\n",
        " - It defines API behavior, ensuring consistency and simplifying integration.\n",
        "\n",
        "18. What are HTTP status codes, and why are they important in a Flask API?\n",
        " - They indicate request outcomes, e.g., 200 for success, 404 for not found.\n",
        "\n",
        "19. How do you handle POST requests in Flask?\n",
        "  - Using request.form or request.json in routes with methods=['POST'].\n",
        "\n",
        "20. How would you secure a Flask API?\n",
        "  - Using HTTPS, authentication, input validation, and rate limiting.\n",
        "\n",
        "21. What is the significance of the Flask-RESTful extension?\n",
        "  - It simplifies RESTful API development by providing tools for request parsing and response handling.\n",
        "\n",
        "22. What is the role of Flask’s session object?\n",
        "  - It stores user data across requests using cookies.\n",
        "\n",
        "23. What is the difference between session and cookies in Flask?\n",
        "  - A session stores data server-side with a unique ID in a cookie, while cookies store data client-side and are less secure."
      ],
      "metadata": {
        "id": "PVs24cC2tKad"
      }
    },
    {
      "cell_type": "markdown",
      "source": [
        "Practical Questions"
      ],
      "metadata": {
        "id": "oLlZ8BIUz78-"
      }
    },
    {
      "cell_type": "code",
      "source": [
        "# 1. How do you create a basic Flask application?\n",
        "\n",
        "from flask import Flask\n",
        "app = Flask(__name__)\n",
        "\n",
        "@app.route('/')\n",
        "def home():\n",
        "    return \"Hello, Flask!\"\n",
        "\n",
        "if __name__ == '__main__':\n",
        "    app.run()\n"
      ],
      "metadata": {
        "id": "wd6M5T8xz-g0"
      },
      "execution_count": null,
      "outputs": []
    },
    {
      "cell_type": "code",
      "source": [
        "# 2. How do you serve static files like images or CSS in Flask?\n",
        "\n",
        "from flask import Flask, send_from_directory\n",
        "app = Flask(__name__)\n",
        "\n",
        "@app.route('/static/<path:filename>')\n",
        "def serve_static(filename):\n",
        "    return send_from_directory('static', filename)\n",
        "\n",
        "if __name__ == '__main__':\n",
        "    app.run()\n"
      ],
      "metadata": {
        "id": "e_dWU_Xqz-7A"
      },
      "execution_count": null,
      "outputs": []
    },
    {
      "cell_type": "code",
      "source": [
        "# 3. How do you define different routes with different HTTP methods in Flask?\n",
        "\n",
        "from flask import Flask, request\n",
        "app = Flask(__name__)\n",
        "\n",
        "@app.route('/message', methods=['GET', 'POST'])\n",
        "def handle_request():\n",
        "    if request.method == 'POST':\n",
        "        return \"POST request received\"\n",
        "    return \"GET request received\"\n",
        "\n",
        "if __name__ == '__main__':\n",
        "    app.run()\n"
      ],
      "metadata": {
        "id": "jlJREdzNz_Q9"
      },
      "execution_count": null,
      "outputs": []
    },
    {
      "cell_type": "code",
      "source": [
        "# 4. How do you render HTML templates in Flask?\n",
        "\n",
        "from flask import Flask, render_template\n",
        "app = Flask(__name__)\n",
        "\n",
        "@app.route('/')\n",
        "def render_page():\n",
        "    return render_template('index.html')\n",
        "\n",
        "if __name__ == '__main__':\n",
        "    app.run()\n"
      ],
      "metadata": {
        "id": "Df7JDBmkz_n4"
      },
      "execution_count": null,
      "outputs": []
    },
    {
      "cell_type": "code",
      "source": [
        "# 5. How can you generate URLs for routes in Flask using url_for?\n",
        "\n",
        "from flask import Flask, url_for\n",
        "app = Flask(__name__)\n",
        "\n",
        "@app.route('/')\n",
        "def home():\n",
        "    return f\"Go to {url_for('about')}\"\n",
        "\n",
        "@app.route('/about')\n",
        "def about():\n",
        "    return \"About Page\"\n",
        "\n",
        "if __name__ == '__main__':\n",
        "    app.run()\n"
      ],
      "metadata": {
        "id": "0VFJ7-z5z_6W"
      },
      "execution_count": null,
      "outputs": []
    },
    {
      "cell_type": "code",
      "source": [
        "# 6. How do you handle forms in Flask?\n",
        "\n",
        "from flask import Flask, request\n",
        "app = Flask(__name__)\n",
        "\n",
        "@app.route('/form', methods=['GET', 'POST'])\n",
        "def handle_form():\n",
        "    if request.method == 'POST':\n",
        "        name = request.form['name']\n",
        "        return f\"Hello, {name}\"\n",
        "    return '''\n",
        "        <form method=\"POST\">\n",
        "            Name: <input type=\"text\" name=\"name\">\n",
        "            <input type=\"submit\">\n",
        "        </form>\n",
        "    '''\n",
        "\n",
        "if __name__ == '__main__':\n",
        "    app.run()\n"
      ],
      "metadata": {
        "id": "AvhUHoXs0AK6"
      },
      "execution_count": null,
      "outputs": []
    },
    {
      "cell_type": "code",
      "source": [
        "# 7. How can you validate form data in Flask?\n",
        "\n",
        "from flask import Flask, request\n",
        "app = Flask(__name__)\n",
        "\n",
        "@app.route('/validate', methods=['POST'])\n",
        "def validate_form():\n",
        "    name = request.form.get('name')\n",
        "    if not name:\n",
        "        return \"Name is required\", 400\n",
        "    return f\"Welcome, {name}\"\n",
        "\n",
        "if __name__ == '__main__':\n",
        "    app.run()\n"
      ],
      "metadata": {
        "id": "NmnYRzBK0AqQ"
      },
      "execution_count": null,
      "outputs": []
    },
    {
      "cell_type": "code",
      "source": [
        "# 8. How do you manage sessions in Flask?\n",
        "\n",
        "from flask import Flask, session\n",
        "app = Flask(__name__)\n",
        "app.secret_key = 'secret'\n",
        "\n",
        "@app.route('/set')\n",
        "def set_session():\n",
        "    session['user'] = 'John'\n",
        "    return \"Session set\"\n",
        "\n",
        "@app.route('/get')\n",
        "def get_session():\n",
        "    user = session.get('user', 'Not set')\n",
        "    return f\"User: {user}\"\n",
        "\n",
        "if __name__ == '__main__':\n",
        "    app.run()\n"
      ],
      "metadata": {
        "id": "DWJIs-Kd0A9o"
      },
      "execution_count": null,
      "outputs": []
    },
    {
      "cell_type": "code",
      "source": [
        "# 9. How do you redirect to a different route in Flask?\n",
        "\n",
        "from flask import Flask, redirect, url_for\n",
        "app = Flask(__name__)\n",
        "\n",
        "@app.route('/')\n",
        "def home():\n",
        "    return redirect(url_for('welcome'))\n",
        "\n",
        "@app.route('/welcome')\n",
        "def welcome():\n",
        "    return \"Welcome to Flask!\"\n",
        "\n",
        "if __name__ == '__main__':\n",
        "    app.run()\n"
      ],
      "metadata": {
        "id": "cliADidr0BSm"
      },
      "execution_count": null,
      "outputs": []
    },
    {
      "cell_type": "code",
      "source": [
        "# 10. How do you handle errors in Flask (e.g., 404)?\n",
        "\n",
        "from flask import Flask, jsonify\n",
        "app = Flask(__name__)\n",
        "\n",
        "@app.errorhandler(404)\n",
        "def page_not_found(e):\n",
        "    return jsonify(error=\"Page not found\"), 404\n",
        "\n",
        "if __name__ == '__main__':\n",
        "    app.run()\n"
      ],
      "metadata": {
        "id": "c7Ncu38v0Bie"
      },
      "execution_count": null,
      "outputs": []
    },
    {
      "cell_type": "code",
      "source": [
        "# 11. How do you structure a Flask app using Blueprints?\n",
        "\n",
        "from flask import Flask, Blueprint\n",
        "\n",
        "app = Flask(__name__)\n",
        "my_blueprint = Blueprint('my_blueprint', __name__)\n",
        "\n",
        "@my_blueprint.route('/hello')\n",
        "def hello():\n",
        "    return \"Hello from Blueprint\"\n",
        "\n",
        "app.register_blueprint(my_blueprint)\n",
        "\n",
        "if __name__ == '__main__':\n",
        "    app.run()\n"
      ],
      "metadata": {
        "id": "rHYPUSp30B2Q"
      },
      "execution_count": null,
      "outputs": []
    },
    {
      "cell_type": "code",
      "source": [
        "# 12. How do you define a custom Jinja filter in Flask?\n",
        "\n",
        "from flask import Flask\n",
        "\n",
        "app = Flask(__name__)\n",
        "\n",
        "def reverse_string(value):\n",
        "    return value[::-1]\n",
        "\n",
        "app.jinja_env.filters['reverse'] = reverse_string\n",
        "\n",
        "@app.route('/')\n",
        "def index():\n",
        "    return '''\n",
        "    {{ \"Flask\"|reverse }}\n",
        "    '''\n",
        "\n",
        "if __name__ == '__main__':\n",
        "    app.run()\n"
      ],
      "metadata": {
        "id": "GRhW89Lz0CJx"
      },
      "execution_count": null,
      "outputs": []
    },
    {
      "cell_type": "code",
      "source": [
        "# 13. How can you redirect with query parameters in Flask?\n",
        "\n",
        "from flask import Flask, redirect, url_for\n",
        "\n",
        "app = Flask(__name__)\n",
        "\n",
        "@app.route('/redirect_with_params')\n",
        "def redirect_with_params():\n",
        "    return redirect(url_for('destination', msg='Hello'))\n",
        "\n",
        "@app.route('/destination')\n",
        "def destination():\n",
        "    msg = request.args.get('msg')\n",
        "    return f\"Message: {msg}\"\n",
        "\n",
        "if __name__ == '__main__':\n",
        "    app.run()\n"
      ],
      "metadata": {
        "id": "AmrEH2Lc0ChM"
      },
      "execution_count": null,
      "outputs": []
    },
    {
      "cell_type": "code",
      "source": [
        "# 14. How do you return JSON responses in Flask?\n",
        "\n",
        "from flask import Flask, jsonify\n",
        "\n",
        "app = Flask(__name__)\n",
        "\n",
        "@app.route('/json')\n",
        "def return_json():\n",
        "    return jsonify(message=\"Hello, JSON\")\n",
        "\n",
        "if __name__ == '__main__':\n",
        "    app.run()\n"
      ],
      "metadata": {
        "id": "c5ZDL8uT0Csq"
      },
      "execution_count": null,
      "outputs": []
    },
    {
      "cell_type": "code",
      "source": [
        "# 15. How do you capture URL parameters in Flask?\n",
        "\n",
        "from flask import Flask\n",
        "\n",
        "app = Flask(__name__)\n",
        "\n",
        "@app.route('/user/<username>')\n",
        "def show_user(username):\n",
        "    return f\"Hello, {username}\"\n",
        "\n",
        "if __name__ == '__main__':\n",
        "    app.run()\n"
      ],
      "metadata": {
        "id": "nywlTPOX0C4K"
      },
      "execution_count": null,
      "outputs": []
    }
  ]
}